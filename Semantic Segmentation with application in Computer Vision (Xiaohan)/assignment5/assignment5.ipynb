{
 "cells": [
  {
   "cell_type": "markdown",
   "metadata": {},
   "source": [
    "# Machine Learning and Computer Vision\n",
    "## Assigment 5\n",
    "\n",
    "---\n",
    "\n",
    "This assignment contains 2 programming exercises.\n"
   ]
  },
  {
   "cell_type": "markdown",
   "metadata": {},
   "source": [
    "## Problem 1: NL-means filter\n",
    "\n",
    "The NL-means filter is an extension of the bilateral filter, where instead of averaging values of pixels with similar values, the values of pixels centered on similar patches are averaged. The NL-means reads as:\n",
    "<img src=\"markdown/fig1.png\">\n",
    "\n",
    "\n",
    "1. Create in imnlmeans_naive(img, sigma, s1, s2, p1,p2, h) function that implements the NL-means filter with six loops.\n",
    "\n",
    "2. Create a script test_imnlmeans function that loads the image x = zebra.png and creates y by adding additive white Gaussian noise. Test your function on y with s1 = s2 = 10, p1 = p2 = 3 and h = 1. \n",
    "<img src=\"markdown/fig2.png\">\n",
    "\n",
    "3. implement the NL-means filter (including around boundaries) with less loops to reduce computaional time. (Hint: use imshift function and seperable property for spatial image convolve.) \n",
    "4. Complete test_imnlmeans function to test your new function. Compare the results and check that your new function is about 7 times faster\n"
   ]
  },
  {
   "cell_type": "code",
   "execution_count": 1,
   "metadata": {},
   "outputs": [
    {
     "data": {
      "text/plain": [
       "'\\nYour code here\\n'"
      ]
     },
     "execution_count": 1,
     "metadata": {},
     "output_type": "execute_result"
    }
   ],
   "source": [
    "import numpy as np\n",
    "from imageio import imread\n",
    "import matplotlib.pyplot as plt\n",
    "\n",
    "#Function\n",
    "'''\n",
    "Your code here\n",
    "'''\n",
    "\n",
    "\n",
    "#Import image here\n",
    "# Sample call\n",
    "'''\n",
    "Your code here\n",
    "'''"
   ]
  },
  {
   "cell_type": "markdown",
   "metadata": {},
   "source": [
    "## Problem 2: Block-wise NL-means filter\n",
    "\n",
    "1, The block-wise NL-means is a variant of NL-means, where instead of averaging values of pixels with similar patches, similar patches are first averaged together: \n",
    "<img src=\"markdown/fig3.png\">\n",
    "<img src=\"markdown/fig4.png\">\n",
    "<img src=\"markdown/fig5.png\">\n",
    "\n",
    "2.Modify the imnlmean function to implement the block-wise NL-means imblocknlmeans(y, sig, s1, s2, p1, p2, h), time the function and compare the Problem1.\n",
    "\n",
    "\n",
    "3.A very classical (but controversial) way to compare the quality of restoration techniques is to use the PSNR defined for images with values ranging in [0, 255] as <img src=\"markdown/fig6.png\"> where x is the noise-free image and x' the estimate obtained from y. The PSNR measures in decibels (dB) the quality of the restoration: the higher the better. Implement it in impsnr function: impsnr(x,y)\n",
    "\n",
    "4.Create a script test_imblocknlmeans function to test your new function on the corrupted version y of x = zebra with additive white Gaussian noise. Choose s1 = s2 = 10, p1 = p2 = 3 and h = 1, and compare the quality (PSNR) and the execution times of imbilateral, imnlmeans and imblocknlmeans. Check that your results are consistent with the following ones:\n",
    "\n",
    "5.What is the advantage of the block-wise NL-means compared to the standard NL-means."
   ]
  },
  {
   "cell_type": "code",
   "execution_count": 18,
   "metadata": {},
   "outputs": [
    {
     "data": {
      "text/plain": [
       "'\\nYour code here\\n'"
      ]
     },
     "execution_count": 18,
     "metadata": {},
     "output_type": "execute_result"
    }
   ],
   "source": [
    "import numpy as np\n",
    "from imageio import imread\n",
    "import matplotlib.pyplot as plt\n",
    "\n",
    "#Function\n",
    "'''\n",
    "Your code here\n",
    "'''\n",
    "\n",
    "\n",
    "#Import image here\n",
    "# Sample call\n",
    "'''\n",
    "Your code here\n",
    "'''\n"
   ]
  },
  {
   "cell_type": "markdown",
   "metadata": {},
   "source": [
    "## Conclusion\n",
    "\n",
    "Have you accomplished all parts of your assignment? What concepts did you used or learned in this assignment? What difficulties have you encountered? Explain your result for each section. Please wirte one or two short paragraph in the below Markdown window (double click to edit)."
   ]
  },
  {
   "cell_type": "markdown",
   "metadata": {},
   "source": [
    "**** Your Conclusion: ****\n",
    "\n",
    "--\n",
    "\n",
    "\n"
   ]
  },
  {
   "cell_type": "markdown",
   "metadata": {},
   "source": [
    "---\n",
    "** Submission Instructions**  \n",
    "Remember to submit you pdf version of this notebook to Gradescope. You can find the export option at File $\\rightarrow$ Download as $\\rightarrow$ PDF via LaTeX"
   ]
  }
 ],
 "metadata": {
  "kernelspec": {
   "display_name": "Python 3",
   "language": "python",
   "name": "python3"
  },
  "language_info": {
   "codemirror_mode": {
    "name": "ipython",
    "version": 3
   },
   "file_extension": ".py",
   "mimetype": "text/x-python",
   "name": "python",
   "nbconvert_exporter": "python",
   "pygments_lexer": "ipython3",
   "version": "3.6.2"
  }
 },
 "nbformat": 4,
 "nbformat_minor": 2
}
