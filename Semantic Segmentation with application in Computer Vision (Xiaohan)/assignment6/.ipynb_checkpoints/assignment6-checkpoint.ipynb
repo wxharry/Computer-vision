{
 "cells": [
  {
   "cell_type": "markdown",
   "metadata": {},
   "source": [
    "# Machine Learning and Computer Vision\n",
    "## Assigment 6\n",
    "\n",
    "---\n",
    "\n",
    "This assignment contains 1 programming exercises with 2 sections.\n"
   ]
  },
  {
   "cell_type": "markdown",
   "metadata": {},
   "source": [
    "## Problem 1: Hough Transform\n",
    "This problem we will introduce Hough Transform. The Hough transform is a feature extraction technique used in image analysis, computer vision, and digital image processing. The purpose of the technique is to find imperfect instances of objects within a certain class of shapes by a voting procedure.\n",
    "\n",
    "(i) Implement the Hough Transform (HT) using the (phi, theta) parameterization as described in GW Third Edition p. 733-738 (please see ’HoughTransform.pdf’ provided in the folder). Use accumulator cells with a resolution of 1 degree in theta and 1 pixel in phi.\n",
    "\n",
    "(ii) Produce a simple 11 x 11 test image made up of zeros with 5 ones in it, arranged like the 5 points in GW Third Edition Figure 10.33(a). \n",
    "<img src=\"markdown/fig5.png\">\n",
    "\n",
    "Compute and display its Hough Transform; the result should look like GW Third Edition Figure 10.33(b). Threshold the HT by looking for any (phi, theta) cells that contains more than 2 votes then plot the corresponding lines in (x,y)-space on top of the original image.\n",
    "\n",
    "\n",
    "(iii) Load in the image ‘lane.png’. \n",
    "<img src=\"markdown/lane.png\">\n",
    "\n",
    "Compute and display its edges using the edge detector, you can use canny edge detector, which you have implemented in Problem 1, or use OpenCV edge detection operator, such as Sobel, etc. \n",
    "\n",
    "Now compute and display the Hough Transform of the binary edge image. As before, threshold the HT and plot the corresponding lines atop the original image; this time, use a threshold of 75% maximum accumulator count over the entire HT, i.e. 0.75*max(HT(:)).\n",
    "\n",
    "(iv) We would like to only show line detections in the driver’s lane and ignore any other line detections such as the lines resulting from the neighboring lane closest to the bus, light pole, and sidewalks. Using the thresholded HT from the ‘lanes.png’ image in the previous part, show only the lines corresponding to the line detections from the driver’s lane by thresholding the HT again using a specified range of theta this time. What are the approximate theta values for the two lines in the driver’s lane?\n",
    "\n",
    "Things to turn in:\n",
    "\n",
    "• Hough Transform plot should have colorbars next to them\n",
    "\n",
    "• Line overlays should be clearly visible (adjust line width if needed)\n",
    "\n",
    "• HT image axes should be properly labeled with name and values (see Figure 10.33(b) in the HoughTransform PDF for example)\n",
    "\n",
    "• 3 images from 2(ii): original image, Hough Transform plot, original image with detected lines\n",
    "\n",
    "• 4 images from 2(iii): original image, binary edge image, Hough Transform plot, original image with detected lines\n",
    "\n",
    "• 1 image from 2(iv): original image with detected lines\n",
    "\n",
    "• theta values from 2(iv)"
   ]
  },
  {
   "cell_type": "code",
   "execution_count": 49,
   "metadata": {},
   "outputs": [
    {
     "name": "stdout",
     "output_type": "stream",
     "text": [
      "[ 42  43 142 142 142 142 197 212 231] [  0   1   0  63  64  90 146 135 117]\n",
      "k = 6.123233995736766e-17 b = 99.85159010600707\n",
      "k = 0.017455064928217672 b = 98.86311386819885\n",
      "k = 6.123233995736766e-17 b = -0.5017667844522862\n",
      "k = 1.9626105055051506 b = -1.1052363094385202\n",
      "k = 2.050303841579296 b = -1.1446163556328026\n",
      "k = -0.6745085168424266 b = 67.18165125200905\n",
      "k = -1.0000000000000002 b = 100.05436023262936\n",
      "k = -1.9626105055051506 b = 197.83729938949932\n"
     ]
    },
    {
     "data": {
      "image/png": "[encoded data removed]",
      "text/plain": [
       "<Figure size 432x288 with 1 Axes>"
      ]
     },
     "metadata": {
      "needs_background": "light"
     },
     "output_type": "display_data"
    },
    {
     "data": {
      "image/png": "[encoded data removed]",
      "text/plain": [
       "<Figure size 900x450 with 2 Axes>"
      ]
     },
     "metadata": {
      "needs_background": "light"
     },
     "output_type": "display_data"
    },
    {
     "data": {
      "image/png": "[encoded data removed]",
      "text/plain": [
       "<Figure size 432x288 with 1 Axes>"
      ]
     },
     "metadata": {
      "needs_background": "light"
     },
     "output_type": "display_data"
    }
   ],
   "source": [
    "import matplotlib.pyplot as plt\n",
    "import numpy as np\n",
    "\n",
    "#Hough Transform Function\n",
    "\n",
    "def Hough_transform(img):\n",
    "    H, W = img.shape\n",
    "    rho = np.int(np.sqrt(H*H + W*W))\n",
    "    theta = 90\n",
    "    hough = np.zeros((rho*2,theta*2))\n",
    "    thetas=np.deg2rad(np.arange(-90,90))\n",
    "    rhos = np.linspace(-rho, rho, int(2*rho))\n",
    "    idx_x, idx_y = np.where(img == 1)\n",
    "    for x, y in zip(idx_x, idx_y):\n",
    "        for i, t in enumerate(thetas):\n",
    "            r = y * np.cos(t) + x * np.sin(t)\n",
    "            hough[int(r), i] += 1\n",
    "#     hough[:rho, :], hough[rho:, :] = hough[rho:, :], hough[:rho, :]\n",
    "    ht=np.zeros(hough.shape)\n",
    "    ht[:rho, :] = hough[rho:, :]\n",
    "    ht[rho:, :] = hough[:rho, :]\n",
    "#     print(rhos, thetas)\n",
    "    return (ht, rhos, thetas)\n",
    "\n",
    "\n",
    "def plot_detected_line(img, hough, rhos, thetas, threshold):\n",
    "    idx_r, idx_t = np.where(hough >= threshold)\n",
    "    print(idx_r, idx_t)\n",
    "    H, W = img.shape\n",
    "#     lines = np.zeros((H, W))  \n",
    "    xout = []\n",
    "    yout = []\n",
    "    rho = np.int(np.sqrt(H*H + W*W))\n",
    "    for r, t in zip(idx_r, idx_t):\n",
    "#         print('r =',r, 't =',t)\n",
    "        r = rhos[r]\n",
    "        t = thetas[t]\n",
    "#         print('r =',r, 't =',t)   \n",
    "        if np.tan(t) == 0:\n",
    "            plt.scatter([r]*H, [range(W)], color='g')\n",
    "        else :\n",
    "            k = -1/np.tan(t)\n",
    "            b = r/np.sin(t)\n",
    "            print('k =',k, 'b =',b)\n",
    "            plt.scatter( [range(H)], [int(k*x+b) for x in range(H)], color='g')\n",
    "            yout.append([int(k*x+b) for x in range(H)])\n",
    "            xout.append([range(H)])\n",
    "#             print('k =',k, 'b =',b)\n",
    "#             for x in range(H):\n",
    "#                 y = k*x+b\n",
    "#                 if y < W:\n",
    "#                     lines[int(y), x] = 1\n",
    "    return xout, yout\n",
    "\n",
    "\n",
    "# create your 11x11 test image\n",
    "\n",
    "# original image\n",
    "# im = np.zeros((11, 11))\n",
    "im = np.zeros((101, 101))\n",
    "H ,W = im.shape\n",
    "# loList = [(0,0), (H-1, 0),((H-1)//2, (W-1)//2),(0, W-1),(H-1, W-1)]\n",
    "loList = [(0,0), (H-1, 0),((H-1)//2, (W-1)//4),(0, W-1),(H-1, (W-1)//2)]\n",
    "\n",
    "\n",
    "k=1\n",
    "for i in loList:\n",
    "    im[i[0], i[1]] = 1\n",
    "    plt.text(i[0], i[1], k)\n",
    "    k+=1\n",
    "# hough transform plot\n",
    "hough, rhos, thetas = Hough_transform(im)\n",
    "# print(rhos, thetas)\n",
    "# with edge detection\n",
    "# xout, yout = plot_detected_line(im, hough, rhos, thetas, 2)\n",
    "# print(xout, yout)\n",
    "# imAddLine = im + line\n",
    "# imAddLine[np.where(imAddLine > 0)] = 1\n",
    "\n",
    "#Sample call and plot \n",
    "plt.imshow(im, cmap='gray')\n",
    "fig = plt.figure(dpi=90, figsize=(10, 5))\n",
    "# plt.xticks([])\n",
    "# plt.yticks([])\n",
    "plt.imshow(hough, cmap='gray', aspect=0.5)\n",
    "plt.colorbar()\n",
    "\n",
    "plt.figure()\n",
    "# plt.imshow(imAddLine, cmap='gray')\n",
    "# plt.imshow(line, cmap='gray')\n",
    "# for i in range(len(yout)):\n",
    "#     plt.scatter(xout[i], yout[i], color='g')\n",
    "plot_detected_line(im, hough, rhos, thetas, 3)\n",
    "plt.imshow(im, cmap='gray')\n",
    "plt.show()"
   ]
  },
  {
   "cell_type": "code",
   "execution_count": 22,
   "metadata": {},
   "outputs": [
    {
     "name": "stdout",
     "output_type": "stream",
     "text": [
      "[ 942 1106 1131 1132 1139 1139 1139 1139 1139 1606 1613 1618 1625] [  4  21  23  23  18  20  22  23  24 146 144 143 142]\n",
      "r = 942 t = 4\n",
      "k = 0.06992681194351034 b = 197.06634146349614\n",
      "r = 1106 t = 21\n",
      "k = 0.38386403503541594 b = 34.827500923986584\n",
      "r = 1131 t = 23\n",
      "k = 0.4244748162096047 b = 8.151281092652255\n",
      "r = 1132 t = 23\n",
      "k = 0.4244748162096047 b = 7.064443613632069\n",
      "r = 1139 t = 18\n",
      "k = 0.3249196962329064 b = -0.5259619997397945\n",
      "r = 1139 t = 20\n",
      "k = 0.36397023426620245 b = -0.5323225660299479\n",
      "r = 1139 t = 22\n",
      "k = 0.40402622583515674 b = -0.5395042037373283\n",
      "r = 1139 t = 23\n",
      "k = 0.4244748162096047 b = -0.5434187395102162\n",
      "r = 1139 t = 24\n",
      "k = 0.4452286853085361 b = -0.5475585073423443\n",
      "r = 1606 t = 146\n",
      "k = -0.6745085168424266 b = 564.1545443691091\n"
     ]
    },
    {
     "ename": "IndexError",
     "evalue": "index 564 is out of bounds for axis 0 with size 505",
     "output_type": "error",
     "traceback": [
      "\u001b[1;31m---------------------------------------------------------------------------\u001b[0m",
      "\u001b[1;31mIndexError\u001b[0m                                Traceback (most recent call last)",
      "\u001b[1;32m<ipython-input-22-25b1b37ce556>\u001b[0m in \u001b[0;36m<module>\u001b[1;34m\u001b[0m\n\u001b[0;32m     15\u001b[0m \u001b[1;33m\u001b[0m\u001b[0m\n\u001b[0;32m     16\u001b[0m \u001b[0mth\u001b[0m \u001b[1;33m=\u001b[0m \u001b[1;36m0.75\u001b[0m \u001b[1;33m*\u001b[0m \u001b[0mnp\u001b[0m\u001b[1;33m.\u001b[0m\u001b[0mmax\u001b[0m\u001b[1;33m(\u001b[0m\u001b[0mhough\u001b[0m\u001b[1;33m)\u001b[0m\u001b[1;33m\u001b[0m\u001b[1;33m\u001b[0m\u001b[0m\n\u001b[1;32m---> 17\u001b[1;33m \u001b[0mline\u001b[0m \u001b[1;33m=\u001b[0m \u001b[0mplot_detected_line\u001b[0m\u001b[1;33m(\u001b[0m\u001b[0mimCanny\u001b[0m\u001b[1;33m,\u001b[0m \u001b[0mhough\u001b[0m\u001b[1;33m,\u001b[0m \u001b[0mrhos\u001b[0m\u001b[1;33m,\u001b[0m \u001b[0mthetas\u001b[0m \u001b[1;33m,\u001b[0m\u001b[0mth\u001b[0m\u001b[1;33m)\u001b[0m\u001b[1;33m\u001b[0m\u001b[1;33m\u001b[0m\u001b[0m\n\u001b[0m\u001b[0;32m     18\u001b[0m \u001b[1;33m\u001b[0m\u001b[0m\n\u001b[0;32m     19\u001b[0m \u001b[1;31m# line = np.zeros(grayimg.shape)\u001b[0m\u001b[1;33m\u001b[0m\u001b[1;33m\u001b[0m\u001b[1;33m\u001b[0m\u001b[0m\n",
      "\u001b[1;32m<ipython-input-20-3596b977814a>\u001b[0m in \u001b[0;36mplot_detected_line\u001b[1;34m(img, hough, rhos, thetas, threshold)\u001b[0m\n\u001b[0;32m     45\u001b[0m                 \u001b[0my\u001b[0m \u001b[1;33m=\u001b[0m \u001b[0mk\u001b[0m\u001b[1;33m*\u001b[0m\u001b[0mx\u001b[0m\u001b[1;33m+\u001b[0m\u001b[0mb\u001b[0m\u001b[1;33m\u001b[0m\u001b[1;33m\u001b[0m\u001b[0m\n\u001b[0;32m     46\u001b[0m                 \u001b[1;32mif\u001b[0m \u001b[0my\u001b[0m \u001b[1;33m<\u001b[0m \u001b[0mW\u001b[0m\u001b[1;33m:\u001b[0m\u001b[1;33m\u001b[0m\u001b[1;33m\u001b[0m\u001b[0m\n\u001b[1;32m---> 47\u001b[1;33m                     \u001b[0mlines\u001b[0m\u001b[1;33m[\u001b[0m\u001b[0mint\u001b[0m\u001b[1;33m(\u001b[0m\u001b[0my\u001b[0m\u001b[1;33m)\u001b[0m\u001b[1;33m,\u001b[0m \u001b[0mx\u001b[0m\u001b[1;33m]\u001b[0m \u001b[1;33m=\u001b[0m \u001b[1;36m1\u001b[0m\u001b[1;33m\u001b[0m\u001b[1;33m\u001b[0m\u001b[0m\n\u001b[0m\u001b[0;32m     48\u001b[0m     \u001b[1;32mreturn\u001b[0m \u001b[0mlines\u001b[0m\u001b[1;33m\u001b[0m\u001b[1;33m\u001b[0m\u001b[0m\n\u001b[0;32m     49\u001b[0m \u001b[1;33m\u001b[0m\u001b[0m\n",
      "\u001b[1;31mIndexError\u001b[0m: index 564 is out of bounds for axis 0 with size 505"
     ]
    }
   ],
   "source": [
    "import cv2\n",
    "import numpy as np\n",
    "import matplotlib.pyplot as plt\n",
    "from imageio import imread\n",
    "\n",
    "# load \"lane.png\"\n",
    "im = imread(\"lane.png\")\n",
    "grayimg = cv2.cvtColor(im, cv2.COLOR_BGR2GRAY)\n",
    "\n",
    "gaus = cv2.GaussianBlur(grayimg,(3,3),0)\n",
    "imCanny = cv2.Canny(gaus, 50, 150, apertureSize=3)\n",
    "imCanny[np.where(imCanny > 0)] = 1\n",
    "\n",
    "hough, rhos, thetas = Hough_transform(imCanny)\n",
    "\n",
    "th = 0.75 * np.max(hough)\n",
    "line = plot_detected_line(imCanny, hough, rhos, thetas ,th)\n",
    "\n",
    "# line = np.zeros(grayimg.shape)\n",
    "# line[200:300, 200:205] = 255\n",
    "# imAddLine = grayimg + line\n",
    "# imAddLine[np.where(imAddLine > 255)] = 255\n",
    "\n",
    "plt.imshow(im, cmap='gray')\n",
    "# plt.figure()\n",
    "# plt.imshow(imCanny, cmap='gray')\n",
    "plt.figure()\n",
    "plt.imshow(hough, cmap='gray', aspect=0.1)\n",
    "plt.figure()\n",
    "plt.imshow(line, cmap='gray')\n",
    "plt.figure()\n",
    "plt.imshow(imAddLine, cmap='gray')\n",
    "plt.show()"
   ]
  },
  {
   "cell_type": "markdown",
   "metadata": {},
   "source": [
    "## Conclusion\n",
    "\n",
    "Have you accomplished all parts of your assignment? What concepts did you used or learned in this assignment? What difficulties have you encountered? Explain your result for each section. Please wirte one or two short paragraph in the below Markdown window (double click to edit)."
   ]
  },
  {
   "cell_type": "markdown",
   "metadata": {},
   "source": [
    "**** Your Conclusion: ****\n",
    "\n",
    "For section 1, the result of 11 * 11 test is not clear. I tried to use 101 * 101 test and the result is similar to GW Third Edition Figure 10.33(b). I don't know why it is required to add a colorbar. I assume different colors show different votes, so the colorbar here shows votes. For notations, I failed to find a good way to write words on image. The result hough is a matrix, not list of parameters of lines. \n",
    "For section 2, it is difficult. I used canny detector in opencv, but hough transform was not successful at first. The process needs a lot of time to compute, mainly because rho is a large number. \n",
    "\n",
    "\n"
   ]
  },
  {
   "cell_type": "markdown",
   "metadata": {},
   "source": [
    "---\n",
    "** Submission Instructions**  \n",
    "Remember to submit you pdf version of this notebook to Gradescope. You can find the export option at File $\\rightarrow$ Download as $\\rightarrow$ PDF via LaTeX"
   ]
  }
 ],
 "metadata": {
  "kernelspec": {
   "display_name": "Python 3",
   "language": "python",
   "name": "python3"
  },
  "language_info": {
   "codemirror_mode": {
    "name": "ipython",
    "version": 3
   },
   "file_extension": ".py",
   "mimetype": "text/x-python",
   "name": "python",
   "nbconvert_exporter": "python",
   "pygments_lexer": "ipython3",
   "version": "3.7.3"
  }
 },
 "nbformat": 4,
 "nbformat_minor": 2
}
