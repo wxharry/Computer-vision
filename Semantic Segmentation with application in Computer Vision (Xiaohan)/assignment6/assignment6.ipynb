{
 "cells": [
  {
   "cell_type": "markdown",
   "metadata": {},
   "source": [
    "# Machine Learning and Computer Vision\n",
    "## Assigment 6\n",
    "\n",
    "---\n",
    "\n",
    "This assignment contains 1 programming exercises with 2 sections.\n"
   ]
  },
  {
   "cell_type": "markdown",
   "metadata": {},
   "source": [
    "## Problem 1: Hough Transform\n",
    "This problem we will introduce Hough Transform. The Hough transform is a feature extraction technique used in image analysis, computer vision, and digital image processing. The purpose of the technique is to find imperfect instances of objects within a certain class of shapes by a voting procedure.\n",
    "\n",
    "(i) Implement the Hough Transform (HT) using the (phi, theta) parameterization as described in GW Third Edition p. 733-738 (please see ’HoughTransform.pdf’ provided in the folder). Use accumulator cells with a resolution of 1 degree in theta and 1 pixel in phi.\n",
    "\n",
    "(ii) Produce a simple 11 x 11 test image made up of zeros with 5 ones in it, arranged like the 5 points in GW Third Edition Figure 10.33(a). \n",
    "<img src=\"markdown/fig5.png\">\n",
    "\n",
    "Compute and display its Hough Transform; the result should look like GW Third Edition Figure 10.33(b). Threshold the HT by looking for any (phi, theta) cells that contains more than 2 votes then plot the corresponding lines in (x,y)-space on top of the original image.\n",
    "\n",
    "\n",
    "(iii) Load in the image ‘lane.png’. \n",
    "<img src=\"markdown/lane.png\">\n",
    "\n",
    "Compute and display its edges using the edge detector, you can use canny edge detector, which you have implemented in Problem 1, or use OpenCV edge detection operator, such as Sobel, etc. \n",
    "\n",
    "Now compute and display the Hough Transform of the binary edge image. As before, threshold the HT and plot the corresponding lines atop the original image; this time, use a threshold of 75% maximum accumulator count over the entire HT, i.e. 0.75*max(HT(:)).\n",
    "\n",
    "(iv) We would like to only show line detections in the driver’s lane and ignore any other line detections such as the lines resulting from the neighboring lane closest to the bus, light pole, and sidewalks. Using the thresholded HT from the ‘lanes.png’ image in the previous part, show only the lines corresponding to the line detections from the driver’s lane by thresholding the HT again using a specified range of theta this time. What are the approximate theta values for the two lines in the driver’s lane?\n",
    "\n",
    "Things to turn in:\n",
    "\n",
    "• Hough Transform plot should have colorbars next to them\n",
    "\n",
    "• Line overlays should be clearly visible (adjust line width if needed)\n",
    "\n",
    "• HT image axes should be properly labeled with name and values (see Figure 10.33(b) in the HoughTransform PDF for example)\n",
    "\n",
    "• 3 images from 2(ii): original image, Hough Transform plot, original image with detected lines\n",
    "\n",
    "• 4 images from 2(iii): original image, binary edge image, Hough Transform plot, original image with detected lines\n",
    "\n",
    "• 1 image from 2(iv): original image with detected lines\n",
    "\n",
    "• theta values from 2(iv)"
   ]
  },
  {
   "cell_type": "code",
   "execution_count": 173,
   "metadata": {},
   "outputs": [],
   "source": [
    "import matplotlib.pyplot as plt\n",
    "import numpy as np\n",
    "\n",
    "#Hough Transform Function\n",
    "def Hough_transform(img):\n",
    "    H, W = img.shape\n",
    "    rho, theta = int(np.sqrt(H*H + W*W)), 90\n",
    "    hough = np.zeros((rho*2,90*2))\n",
    "    idx_x, idx_y = np.where(im == 1)\n",
    "    for i in zip(idx_x, idx_y):\n",
    "        for t in range(-90, 90):\n",
    "            rho=int(i[1]*np.cos(t * np.pi/180) + i[0] * np.sin(t * np.pi/180))\n",
    "            hough[rho+int(np.sqrt(H*H + W*W)), t+90] += 1\n",
    "    return (hough, rho, theta)\n",
    "\n",
    "\n",
    "def plot_detected_line(img, hough, threshold):\n",
    "    rho, theta = np.where(hough > threshold)\n",
    "    H, W = img.shape\n",
    "    pdl = np.copy(img)\n",
    "    for r, t in zip(rho, theta):\n",
    "        for i in range(H):\n",
    "            for j in range(W):\n",
    "                if r - int(np.sqrt(H*H + W*W)) == int(i * np.cos((t-90)*np.pi/180) + j * np.sin((t-90)*np.pi/180)):\n",
    "                    pdl[i, j] = 1                    \n",
    "    return pdl\n"
   ]
  },
  {
   "cell_type": "code",
   "execution_count": 156,
   "metadata": {},
   "outputs": [
    {
     "data": {
      "image/png": "[encoded data removed]",
      "text/plain": [
       "<Figure size 432x288 with 1 Axes>"
      ]
     },
     "metadata": {
      "needs_background": "light"
     },
     "output_type": "display_data"
    },
    {
     "data": {
      "image/png": "[encoded data removed]",
      "text/plain": [
       "<Figure size 432x288 with 1 Axes>"
      ]
     },
     "metadata": {
      "needs_background": "light"
     },
     "output_type": "display_data"
    },
    {
     "data": {
      "image/png": "[encoded data removed]",
      "text/plain": [
       "<Figure size 432x288 with 1 Axes>"
      ]
     },
     "metadata": {
      "needs_background": "light"
     },
     "output_type": "display_data"
    },
    {
     "data": {
      "text/plain": [
       "'\\nYour code here\\n'"
      ]
     },
     "execution_count": 156,
     "metadata": {},
     "output_type": "execute_result"
    }
   ],
   "source": [
    "# create your 11x11 test image\n",
    "\n",
    "# original image\n",
    "im = np.zeros((11, 11))\n",
    "H ,W = im.shape\n",
    "loList = [(0,0), (H-1, 0),((H-1)//2, (W-1)//2),(0, W-1),(H-1, W-1)]\n",
    "k=1\n",
    "for i in loList:\n",
    "    im[i[0], i[1]] = 1\n",
    "    plt.text(i[0], i[1], k)\n",
    "    k+=1\n",
    "# hough transform plot\n",
    "hough = Hough_transform(im)[0]\n",
    "# with edge detection\n",
    "pdl = plot_detected_line(im, hough, 2)\n",
    "\n",
    "#Sample call and plot \n",
    "plt.imshow(im, cmap='gray')\n",
    "plt.figure()\n",
    "plt.imshow(hough, cmap='gray')\n",
    "plt.figure()\n",
    "plt.imshow(pdl, cmap='gray')\n",
    "plt.show()"
   ]
  },
  {
   "cell_type": "code",
   "execution_count": 172,
   "metadata": {},
   "outputs": [
    {
     "ename": "ValueError",
     "evalue": "too many values to unpack (expected 2)",
     "output_type": "error",
     "traceback": [
      "\u001b[1;31m---------------------------------------------------------------------------\u001b[0m",
      "\u001b[1;31mValueError\u001b[0m                                Traceback (most recent call last)",
      "\u001b[1;32m<ipython-input-172-07d283ed1184>\u001b[0m in \u001b[0;36m<module>\u001b[1;34m\u001b[0m\n\u001b[0;32m     11\u001b[0m \u001b[0mimSobel\u001b[0m\u001b[1;33m=\u001b[0m\u001b[0mcv2\u001b[0m\u001b[1;33m.\u001b[0m\u001b[0maddWeighted\u001b[0m\u001b[1;33m(\u001b[0m\u001b[0mabsX\u001b[0m\u001b[1;33m,\u001b[0m\u001b[1;36m0.5\u001b[0m\u001b[1;33m,\u001b[0m\u001b[0mabsY\u001b[0m\u001b[1;33m,\u001b[0m\u001b[1;36m0.5\u001b[0m\u001b[1;33m,\u001b[0m\u001b[1;36m0\u001b[0m\u001b[1;33m)\u001b[0m\u001b[1;33m\u001b[0m\u001b[1;33m\u001b[0m\u001b[0m\n\u001b[0;32m     12\u001b[0m \u001b[1;33m\u001b[0m\u001b[0m\n\u001b[1;32m---> 13\u001b[1;33m \u001b[0mimHT\u001b[0m \u001b[1;33m=\u001b[0m \u001b[0mHough_transform\u001b[0m\u001b[1;33m(\u001b[0m\u001b[0mimSobel\u001b[0m\u001b[1;33m)\u001b[0m\u001b[1;33m\u001b[0m\u001b[1;33m\u001b[0m\u001b[0m\n\u001b[0m\u001b[0;32m     14\u001b[0m \u001b[1;33m\u001b[0m\u001b[0m\n\u001b[0;32m     15\u001b[0m \u001b[0mplt\u001b[0m\u001b[1;33m.\u001b[0m\u001b[0mimshow\u001b[0m\u001b[1;33m(\u001b[0m\u001b[0mgrayimg\u001b[0m\u001b[1;33m,\u001b[0m \u001b[0mcmap\u001b[0m\u001b[1;33m=\u001b[0m\u001b[1;34m'gray'\u001b[0m\u001b[1;33m)\u001b[0m\u001b[1;33m\u001b[0m\u001b[1;33m\u001b[0m\u001b[0m\n",
      "\u001b[1;32m<ipython-input-158-a158befd770b>\u001b[0m in \u001b[0;36mHough_transform\u001b[1;34m(img)\u001b[0m\n\u001b[0;32m      7\u001b[0m     \u001b[0mrho\u001b[0m\u001b[1;33m,\u001b[0m \u001b[0mtheta\u001b[0m \u001b[1;33m=\u001b[0m \u001b[0mint\u001b[0m\u001b[1;33m(\u001b[0m\u001b[0mnp\u001b[0m\u001b[1;33m.\u001b[0m\u001b[0msqrt\u001b[0m\u001b[1;33m(\u001b[0m\u001b[0mH\u001b[0m\u001b[1;33m*\u001b[0m\u001b[0mH\u001b[0m \u001b[1;33m+\u001b[0m \u001b[0mW\u001b[0m\u001b[1;33m*\u001b[0m\u001b[0mW\u001b[0m\u001b[1;33m)\u001b[0m\u001b[1;33m)\u001b[0m\u001b[1;33m,\u001b[0m \u001b[1;36m90\u001b[0m\u001b[1;33m\u001b[0m\u001b[1;33m\u001b[0m\u001b[0m\n\u001b[0;32m      8\u001b[0m     \u001b[0mhough\u001b[0m \u001b[1;33m=\u001b[0m \u001b[0mnp\u001b[0m\u001b[1;33m.\u001b[0m\u001b[0mzeros\u001b[0m\u001b[1;33m(\u001b[0m\u001b[1;33m(\u001b[0m\u001b[0mrho\u001b[0m\u001b[1;33m*\u001b[0m\u001b[1;36m2\u001b[0m\u001b[1;33m,\u001b[0m\u001b[1;36m90\u001b[0m\u001b[1;33m*\u001b[0m\u001b[1;36m2\u001b[0m\u001b[1;33m)\u001b[0m\u001b[1;33m)\u001b[0m\u001b[1;33m\u001b[0m\u001b[1;33m\u001b[0m\u001b[0m\n\u001b[1;32m----> 9\u001b[1;33m     \u001b[0midx_x\u001b[0m\u001b[1;33m,\u001b[0m \u001b[0midx_y\u001b[0m \u001b[1;33m=\u001b[0m \u001b[0mnp\u001b[0m\u001b[1;33m.\u001b[0m\u001b[0mwhere\u001b[0m\u001b[1;33m(\u001b[0m\u001b[0mim\u001b[0m \u001b[1;33m==\u001b[0m \u001b[1;36m1\u001b[0m\u001b[1;33m)\u001b[0m\u001b[1;33m\u001b[0m\u001b[1;33m\u001b[0m\u001b[0m\n\u001b[0m\u001b[0;32m     10\u001b[0m     \u001b[1;32mfor\u001b[0m \u001b[0mi\u001b[0m \u001b[1;32min\u001b[0m \u001b[0mzip\u001b[0m\u001b[1;33m(\u001b[0m\u001b[0midx_x\u001b[0m\u001b[1;33m,\u001b[0m \u001b[0midx_y\u001b[0m\u001b[1;33m)\u001b[0m\u001b[1;33m:\u001b[0m\u001b[1;33m\u001b[0m\u001b[1;33m\u001b[0m\u001b[0m\n\u001b[0;32m     11\u001b[0m         \u001b[1;32mfor\u001b[0m \u001b[0mt\u001b[0m \u001b[1;32min\u001b[0m \u001b[0mrange\u001b[0m\u001b[1;33m(\u001b[0m\u001b[1;33m-\u001b[0m\u001b[1;36m90\u001b[0m\u001b[1;33m,\u001b[0m \u001b[1;36m90\u001b[0m\u001b[1;33m)\u001b[0m\u001b[1;33m:\u001b[0m\u001b[1;33m\u001b[0m\u001b[1;33m\u001b[0m\u001b[0m\n",
      "\u001b[1;31mValueError\u001b[0m: too many values to unpack (expected 2)"
     ]
    }
   ],
   "source": [
    "import cv2\n",
    "from imageio import imread\n",
    "# load \"lane.png\"\n",
    "im = imread(\"lane.png\")\n",
    "grayimg = cv2.cvtColor(im, cv2.COLOR_BGR2GRAY)\n",
    "# \n",
    "x=cv2.Sobel(grayimg,cv2.CV_16S,1,0)\n",
    "y=cv2.Sobel(grayimg,cv2.CV_16S,0,1)\n",
    "absX=cv2.convertScaleAbs(x)\n",
    "absY=cv2.convertScaleAbs(y)\n",
    "imSobel=cv2.addWeighted(absX,0.5,absY,0.5,0)\n",
    "\n",
    "imHT = Hough_transform(imSobel)\n",
    "\n",
    "plt.imshow(grayimg, cmap='gray')\n",
    "plt.figure()\n",
    "plt.imshow(imSobel, cmap='gray')\n",
    "plt.figure()\n",
    "plt.imshow(imHT, cmap='gray')\n",
    "plt.show()"
   ]
  },
  {
   "cell_type": "markdown",
   "metadata": {},
   "source": [
    "## Conclusion\n",
    "\n",
    "Have you accomplished all parts of your assignment? What concepts did you used or learned in this assignment? What difficulties have you encountered? Explain your result for each section. Please wirte one or two short paragraph in the below Markdown window (double click to edit)."
   ]
  },
  {
   "cell_type": "markdown",
   "metadata": {},
   "source": [
    "**** Your Conclusion: ****\n",
    "\n",
    "--\n",
    "\n",
    "\n"
   ]
  },
  {
   "cell_type": "markdown",
   "metadata": {},
   "source": [
    "---\n",
    "** Submission Instructions**  \n",
    "Remember to submit you pdf version of this notebook to Gradescope. You can find the export option at File $\\rightarrow$ Download as $\\rightarrow$ PDF via LaTeX"
   ]
  }
 ],
 "metadata": {
  "kernelspec": {
   "display_name": "Python 3",
   "language": "python",
   "name": "python3"
  },
  "language_info": {
   "codemirror_mode": {
    "name": "ipython",
    "version": 3
   },
   "file_extension": ".py",
   "mimetype": "text/x-python",
   "name": "python",
   "nbconvert_exporter": "python",
   "pygments_lexer": "ipython3",
   "version": "3.7.3"
  }
 },
 "nbformat": 4,
 "nbformat_minor": 2
}
