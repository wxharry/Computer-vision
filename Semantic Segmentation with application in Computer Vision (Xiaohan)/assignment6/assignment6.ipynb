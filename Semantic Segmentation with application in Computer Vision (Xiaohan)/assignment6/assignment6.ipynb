{
 "cells": [
  {
   "cell_type": "markdown",
   "metadata": {},
   "source": [
    "# Machine Learning and Computer Vision\n",
    "## Assigment 6\n",
    "\n",
    "---\n",
    "\n",
    "This assignment contains 1 programming exercises with 2 sections.\n"
   ]
  },
  {
   "cell_type": "markdown",
   "metadata": {},
   "source": [
    "## Problem 1: Hough Transform\n",
    "This problem we will introduce Hough Transform. The Hough transform is a feature extraction technique used in image analysis, computer vision, and digital image processing. The purpose of the technique is to find imperfect instances of objects within a certain class of shapes by a voting procedure.\n",
    "\n",
    "(i) Implement the Hough Transform (HT) using the (phi, theta) parameterization as described in GW Third Edition p. 733-738 (please see ’HoughTransform.pdf’ provided in the folder). Use accumulator cells with a resolution of 1 degree in theta and 1 pixel in phi.\n",
    "\n",
    "(ii) Produce a simple 11 x 11 test image made up of zeros with 5 ones in it, arranged like the 5 points in GW Third Edition Figure 10.33(a). \n",
    "<img src=\"markdown/fig5.png\">\n",
    "\n",
    "Compute and display its Hough Transform; the result should look like GW Third Edition Figure 10.33(b). Threshold the HT by looking for any (phi, theta) cells that contains more than 2 votes then plot the corresponding lines in (x,y)-space on top of the original image.\n",
    "\n",
    "\n",
    "(iii) Load in the image ‘lane.png’. \n",
    "<img src=\"markdown/lane.png\">\n",
    "\n",
    "Compute and display its edges using the edge detector, you can use canny edge detector, which you have implemented in Problem 1, or use OpenCV edge detection operator, such as Sobel, etc. \n",
    "\n",
    "Now compute and display the Hough Transform of the binary edge image. As before, threshold the HT and plot the corresponding lines atop the original image; this time, use a threshold of 75% maximum accumulator count over the entire HT, i.e. 0.75*max(HT(:)).\n",
    "\n",
    "(iv) We would like to only show line detections in the driver’s lane and ignore any other line detections such as the lines resulting from the neighboring lane closest to the bus, light pole, and sidewalks. Using the thresholded HT from the ‘lanes.png’ image in the previous part, show only the lines corresponding to the line detections from the driver’s lane by thresholding the HT again using a specified range of theta this time. What are the approximate theta values for the two lines in the driver’s lane?\n",
    "\n",
    "Things to turn in:\n",
    "\n",
    "• Hough Transform plot should have colorbars next to them\n",
    "\n",
    "• Line overlays should be clearly visible (adjust line width if needed)\n",
    "\n",
    "• HT image axes should be properly labeled with name and values (see Figure 10.33(b) in the HoughTransform PDF for example)\n",
    "\n",
    "• 3 images from 2(ii): original image, Hough Transform plot, original image with detected lines\n",
    "\n",
    "• 4 images from 2(iii): original image, binary edge image, Hough Transform plot, original image with detected lines\n",
    "\n",
    "• 1 image from 2(iv): original image with detected lines\n",
    "\n",
    "• theta values from 2(iv)"
   ]
  },
  {
   "cell_type": "code",
   "execution_count": 1,
   "metadata": {},
   "outputs": [
    {
     "ename": "SyntaxError",
     "evalue": "invalid syntax (<ipython-input-1-0538140fc765>, line 12)",
     "output_type": "error",
     "traceback": [
      "\u001b[0;36m  File \u001b[0;32m\"<ipython-input-1-0538140fc765>\"\u001b[0;36m, line \u001b[0;32m12\u001b[0m\n\u001b[0;31m    def plot_detected_line()\u001b[0m\n\u001b[0m                            ^\u001b[0m\n\u001b[0;31mSyntaxError\u001b[0m\u001b[0;31m:\u001b[0m invalid syntax\n"
     ]
    }
   ],
   "source": [
    "#Hough Transform Function\n",
    "'''\n",
    "Your code here\n",
    "'''\n",
    "def Hough_transform(img):\n",
    "    '''\n",
    "    Your code here\n",
    "    '''\n",
    "    return (A, rho, theta)\n",
    "\n",
    "\n",
    "def plot_detected_line()\n",
    "    '''\n",
    "    Your code here\n",
    "    '''\n",
    "     "
   ]
  },
  {
   "cell_type": "code",
   "execution_count": 2,
   "metadata": {},
   "outputs": [
    {
     "data": {
      "text/plain": [
       "'\\nYour code here\\n'"
      ]
     },
     "execution_count": 2,
     "metadata": {},
     "output_type": "execute_result"
    }
   ],
   "source": [
    "# create your 11x11 test image and load \"lane.png\"\n",
    "'''\n",
    "Your code here\n",
    "'''\n",
    "\n",
    "#Sample call and plot \n",
    "'''\n",
    "Your code here\n",
    "'''"
   ]
  },
  {
   "cell_type": "markdown",
   "metadata": {},
   "source": [
    "## Conclusion\n",
    "\n",
    "Have you accomplished all parts of your assignment? What concepts did you used or learned in this assignment? What difficulties have you encountered? Explain your result for each section. Please wirte one or two short paragraph in the below Markdown window (double click to edit)."
   ]
  },
  {
   "cell_type": "markdown",
   "metadata": {},
   "source": [
    "**** Your Conclusion: ****\n",
    "\n",
    "--\n",
    "\n",
    "\n"
   ]
  },
  {
   "cell_type": "markdown",
   "metadata": {},
   "source": [
    "---\n",
    "** Submission Instructions**  \n",
    "Remember to submit you pdf version of this notebook to Gradescope. You can find the export option at File $\\rightarrow$ Download as $\\rightarrow$ PDF via LaTeX"
   ]
  }
 ],
 "metadata": {
  "kernelspec": {
   "display_name": "Python 3",
   "language": "python",
   "name": "python3"
  },
  "language_info": {
   "codemirror_mode": {
    "name": "ipython",
    "version": 3
   },
   "file_extension": ".py",
   "mimetype": "text/x-python",
   "name": "python",
   "nbconvert_exporter": "python",
   "pygments_lexer": "ipython3",
   "version": "3.7.3"
  }
 },
 "nbformat": 4,
 "nbformat_minor": 2
}
