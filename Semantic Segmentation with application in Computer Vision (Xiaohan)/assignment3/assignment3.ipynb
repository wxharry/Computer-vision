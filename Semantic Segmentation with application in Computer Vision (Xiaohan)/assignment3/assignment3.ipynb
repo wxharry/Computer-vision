{
 "cells": [
  {
   "cell_type": "markdown",
   "metadata": {},
   "source": [
    "# Machine Learning and Computer Vision\n",
    "## Assigment 3\n",
    "\n",
    "---\n",
    "\n",
    "This assignment contains 2 programming exercises.\n"
   ]
  },
  {
   "cell_type": "markdown",
   "metadata": {},
   "source": [
    "## Problem 1: Order-statistic filtering\n",
    "\n",
    "Order-statistic filters (OSF) are local filters that are only based on the ranking of pixel values inside a sliding window.\n",
    "1. Create in imstack(img,s1,s2) function that creates a stack xstack of size n1 ×n2 ×s, which s = (2s1 +1)(2s2 +1) from the n1 ×n2 image x, such that xstack(i,j,:) contains all the values of x in the neighborhood (−s1, s1) × (−s2, s2). This function should take into account the four possible boundary conditions.\n",
    "\n",
    "    Hint: you can use imshift, which we implemented in assignment 1, and only two loops for −s1 <= k <= s1 and −s2<= l<= s2.\n",
    "    \n",
    "2. Create in imosf() function\n",
    "     function imosf(x, type, s1, s2) that implements order-statistic filters, returns xosf. imosf should first call imstack, next sort the entries of the stack with respect to the third dimension, and create the suitable output xosf according to the string type as follows:\n",
    "     \n",
    "    • 'median': select the median value,\n",
    "    \n",
    "    • 'erode': select the min value,\n",
    "    \n",
    "    • 'dilate': select the max value,\n",
    "    \n",
    "    • 'trimmed': take the mean after excluding at least 25% of the extreme values on each side.\n",
    "    \n",
    "3. Create in imopening() and imclosing() function that performs the opening and closing by the means of OSF filters.\n",
    "    <img src=\"markdown/fig1.png\">\n",
    "\n",
    "4. Load castle.png. Write a script to test imosf() that loads the image x = castle and create a corrupted version of image x with 10% of impulse noise (salt and pepper)\n",
    "\n",
    "Apply your OSF filters and zoom on the results to check that your results are consistent with the following ones:\n",
    "    <img src=\"markdown/fig2.png\">\n"
   ]
  },
  {
   "cell_type": "code",
   "execution_count": 26,
   "metadata": {},
   "outputs": [
    {
     "data": {
      "text/plain": [
       "'\\nYour code here\\n'"
      ]
     },
     "execution_count": 26,
     "metadata": {},
     "output_type": "execute_result"
    }
   ],
   "source": [
    "#Function\n",
    "'''\n",
    "Your code here\n",
    "'''\n",
    "\n",
    "\n",
    "#Import image here\n",
    "# Sample call\n",
    "# castle.png\n",
    "'''\n",
    "Your code here\n",
    "'''\n",
    "\n"
   ]
  },
  {
   "cell_type": "markdown",
   "metadata": {},
   "source": [
    "## Problem 2: Bilateral filter\n",
    "\n",
    "Now, we will discuss a non-local filter, Bilateral filter.\n",
    "\n",
    "The bilateral filter is a denoising algorithm that reads as:\n",
    "    <img src=\"markdown/fig3.png\">\n",
    "\n",
    "1. Create a test_imbilateral(img, sigma) function that loads the image x = castle and adds additive white Gaussian noise of standard deviation σ = 10\n",
    "\n",
    "2. Create in imbilateral_naive(img, sigma, s1, s2, h), a function that implements the bilateral filter (except around boundaries) with four loops.\n",
    "\n",
    "3. test your function on y with s1 = s2 = 10 and h = 1. Zoom on the results to check that your functions are consistent with the following ones:\n",
    "    <img src=\"markdown/fig4.png\">\n",
    "\n",
    "4. Create function imbilateral(y, sigma, s1, s2, h)that implements the bilateral filter including around boundaries. The idea is again to switch the k, l loops with the i, j loops, and then make use of imshift. The final code should read with only two loops and deal with boundary conditions.\n",
    "\n",
    "5. Compare the computation times.\n",
    "\n",
    "6. Increase the noise level, and play with the search window sizes s1 and s2 and filtering parameter h."
   ]
  },
  {
   "cell_type": "code",
   "execution_count": 27,
   "metadata": {},
   "outputs": [
    {
     "data": {
      "text/plain": [
       "'\\nYour code here\\n'"
      ]
     },
     "execution_count": 27,
     "metadata": {},
     "output_type": "execute_result"
    }
   ],
   "source": [
    "#Function\n",
    "'''\n",
    "Your code here\n",
    "'''\n",
    "#note: noise can be generated using \n",
    "# noise: sigma*np.random.randn(n1,n2)\n",
    "\n",
    "#Import image here\n",
    "# Sample call\n",
    "# castle.png\n",
    "'''\n",
    "Your code here\n",
    "'''"
   ]
  },
  {
   "cell_type": "markdown",
   "metadata": {},
   "source": [
    "## Conclusion\n",
    "\n",
    "Have you accomplished all parts of your assignment? What concepts did you used or learned in this assignment? What difficulties have you encountered? Explain your result for each section. Please wirte one or two short paragraph in the below Markdown window (double click to edit)."
   ]
  },
  {
   "cell_type": "markdown",
   "metadata": {},
   "source": [
    "**** Your Conclusion: ****\n",
    "\n",
    "--\n",
    "\n",
    "\n",
    "\n"
   ]
  },
  {
   "cell_type": "markdown",
   "metadata": {},
   "source": [
    "---\n",
    "** Submission Instructions**  \n",
    "Remember to submit you pdf version of this notebook to Gradescope. You can find the export option at File $\\rightarrow$ Download as $\\rightarrow$ PDF via LaTeX"
   ]
  }
 ],
 "metadata": {
  "kernelspec": {
   "display_name": "Python 3",
   "language": "python",
   "name": "python3"
  },
  "language_info": {
   "codemirror_mode": {
    "name": "ipython",
    "version": 3
   },
   "file_extension": ".py",
   "mimetype": "text/x-python",
   "name": "python",
   "nbconvert_exporter": "python",
   "pygments_lexer": "ipython3",
   "version": "3.6.2"
  }
 },
 "nbformat": 4,
 "nbformat_minor": 2
}
