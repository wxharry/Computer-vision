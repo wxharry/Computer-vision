{
 "cells": [
  {
   "cell_type": "markdown",
   "metadata": {},
   "source": [
    "# Machine Learning and Computer Vision\n",
    "## Assigment 4\n",
    "\n",
    "---\n",
    "\n",
    "This assignment contains 2 programming exercises.\n"
   ]
  },
  {
   "cell_type": "markdown",
   "metadata": {},
   "source": [
    "## Problem 1: Canny Edge Detection\n",
    "\n",
    "In this problem, you are required to write a function that performs Canny Edge Detection1. The function has the following specifications:\n",
    "\n",
    "• It takes in two inputs: a grayscale image (geisel.jpg), and a threshold te. \n",
    "\n",
    "• It returns the edge image.\n",
    "\n",
    "• You are allowed the use of loops.\n",
    "\n",
    "\n",
    "A brief description of the algorithm is given below. Make sure your function reproduces each step as given.\n",
    "\n",
    "(i) Smoothing: \n",
    "\n",
    "It is inevitable that all images taken from a camera will contain some amount of noise. To prevent noise from being mistaken for edges, noise must be reduced. Therefore the image is first smoothed by applying a Gaussian filter. A Gaussian kernel with standard deviation σ = 1.4 (shown below) is to be used. \n",
    "\n",
    "You can perform this filtering step by using the scipy.signal.convolve2d( ) function.\n",
    "<img src=\"markdown/fig1.png\">\n",
    "\n",
    "(ii) Finding Gradients: \n",
    "\n",
    "The next step is to find the horizontal and vertical gradients of the smoothed image using the Sobel operators. The gradient images in the x and y-direction, Gx and Gy are found by applying the kernels kx and ky given below. \n",
    "These operations can be performed using scipy.signal.convolve2d() in the same manner as before.\n",
    "<img src=\"markdown/fig2.png\">\n",
    "\n",
    "The corresponding gradient magnitude image is computed using:\n",
    "<img src=\"markdown/fig3.png\">\n",
    "\n",
    "and the edge direction image is calculated as follows:\n",
    "<img src=\"markdown/fig4.png\">\n",
    "\n",
    "(iii) Non-maximum Suppression (NMS): \n",
    "\n",
    "The purpose of this step is to convert the thick edges in the gradient magnitude image to ”sharp” edges. This is done by preserving all local maxima in the gradient image, and deleting everything else. This is carried out by recursively performing the following steps for each pixel in the gradient image:\n",
    "\n",
    "• Round the gradient direction θ to nearest 45◦, corresponding to the use of an 8-connected neighbourhood.\n",
    "\n",
    "• Compare the edge strength of the current pixel with the edge strength of the pixel in the positive and negative gradient direction i.e. if the gradient direction is north (θ = 90◦), then compare with the pixels to the north and south.\n",
    "\n",
    "• If the edge strength of the current pixel is largest; preserve the value of the edge strength. If not, suppress (remove) the value.\n",
    "\n",
    "(iv) Thresholding: \n",
    "\n",
    "The edge-pixels remaining after the NMS step are (still) marked with their strength. Many of these will probably be true edges in the image, but some may be caused by noise or color variations. The simplest way to remove these would be to use a threshold, so that only edges stronger that a certain value would be preserved. Use the input te to perform thresholding on the non-maximum suppressed magnitude image.\n",
    "\n",
    "Evaluate your canny edge detection function on geisel.jpg for a suitable value of te that retains the structural edges, and removes the noisy ones.\n",
    "\n",
    "Things to turn in:\n",
    "\n",
    "• Image afyer smoothing, the original gradient magnitude image, the image after NMS, and the final edge image after thresholding.\n",
    "\n",
    "• The value for te that you used to produce the final edge image."
   ]
  },
  {
   "cell_type": "code",
   "execution_count": 1,
   "metadata": {},
   "outputs": [
    {
     "data": {
      "text/plain": [
       "'\\nYour code here\\n'"
      ]
     },
     "execution_count": 1,
     "metadata": {},
     "output_type": "execute_result"
    }
   ],
   "source": [
    "import numpy as np\n",
    "from imageio import imread\n",
    "import matplotlib.pyplot as plt\n",
    "from scipy import signal\n",
    "\n",
    "def rgb2gray(rgb):\n",
    "    return grayimg\n",
    "\n",
    "def canny_edge(img, te):\n",
    "    return detected_img\n",
    "#Canny Edge Detection Function\n",
    "'''\n",
    "Your code here\n",
    "'''\n",
    "\n",
    "\n",
    "#Import image here\n",
    "# threshold\n",
    "\n",
    "# Convert to Gray scale image, select Threshold\n",
    "# Sample call\n",
    "'''\n",
    "Your code here\n",
    "'''\n"
   ]
  },
  {
   "cell_type": "markdown",
   "metadata": {},
   "source": [
    "## Problem 2 Adaptive Histogram Equalization\n",
    "It is often found in image processing and related fields that real world data is unsuitable for direct use. This warrants the inclusion of pre-processing steps before any other operations are performed. An example of this is histogram equalization (HE) and its extension adaptive histogram equalization (AHE).\n",
    "The goal of this problem is to implement a function for AHE as described in Chapter 1 of Adaptive Histogram Equalization - A Parallel Implementation2. The function has the following specifications:\n",
    "\n",
    "(i) The desired function AHE() takes two inputs: the image (\"beach.png\") im and the contextual region size win_size.\n",
    "\n",
    "(ii) Using the pseudocode in Algorithm as a reference, compute the enhanced image after AHE.\n",
    "\n",
    "(iii) You may use loops if necessary. You should not make use of any inbuilt functions for AHE or HE.\n",
    "\n",
    "(iv) The function returns one output: the enhanced image after AHE.\n",
    "\n",
    "<img src=\"markdown/fig6.png\">\n",
    "\n",
    "Evaluate your function on the image beach.png for win size = 33, 65 and 129. In your report, include the original image, the 3 images after AHE. Make sure to resize all images to ensure they do not take up too much space. Additionally, include your answers (no more than three sentences each) to the following questions:\n",
    "\n",
    "• How does the original image qualitatively compare to the images after AHE?\n",
    "\n"
   ]
  },
  {
   "cell_type": "code",
   "execution_count": 2,
   "metadata": {},
   "outputs": [
    {
     "data": {
      "text/plain": [
       "'\\nYour code here\\n'"
      ]
     },
     "execution_count": 2,
     "metadata": {},
     "output_type": "execute_result"
    }
   ],
   "source": [
    "def AHE(im, win_size):\n",
    "    '''\n",
    "    Your code here\n",
    "    '''\n",
    "    return output\n",
    "\n",
    "\n",
    "#Import image here\n",
    "#Sample call\n",
    "#Plotting code below\n",
    "'''\n",
    "Your code here\n",
    "'''\n"
   ]
  },
  {
   "cell_type": "markdown",
   "metadata": {},
   "source": [
    "## Conclusion\n",
    "\n",
    "Have you accomplished all parts of your assignment? What concepts did you used or learned in this assignment? What difficulties have you encountered? Explain your result for each section. Please wirte one or two short paragraph in the below Markdown window (double click to edit)."
   ]
  },
  {
   "cell_type": "markdown",
   "metadata": {},
   "source": [
    "**** Your Conclusion: ****\n",
    "\n",
    "--\n",
    "\n",
    "\n"
   ]
  },
  {
   "cell_type": "markdown",
   "metadata": {},
   "source": [
    "---\n",
    "** Submission Instructions**  \n",
    "Remember to submit you pdf version of this notebook to Gradescope. You can find the export option at File $\\rightarrow$ Download as $\\rightarrow$ PDF via LaTeX"
   ]
  }
 ],
 "metadata": {
  "kernelspec": {
   "display_name": "Python 3",
   "language": "python",
   "name": "python3"
  },
  "language_info": {
   "codemirror_mode": {
    "name": "ipython",
    "version": 3
   },
   "file_extension": ".py",
   "mimetype": "text/x-python",
   "name": "python",
   "nbconvert_exporter": "python",
   "pygments_lexer": "ipython3",
   "version": "3.6.2"
  }
 },
 "nbformat": 4,
 "nbformat_minor": 2
}
