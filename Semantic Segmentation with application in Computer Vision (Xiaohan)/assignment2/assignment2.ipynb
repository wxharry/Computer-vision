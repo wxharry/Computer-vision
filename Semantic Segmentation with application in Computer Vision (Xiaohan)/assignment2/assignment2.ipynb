{
 "cells": [
  {
   "cell_type": "markdown",
   "metadata": {},
   "source": [
    "# Machine Learning and Computer Vision\n",
    "## Assigment 2\n",
    "\n",
    "---\n",
    "\n",
    "This assignment contains 3 programming exercises. Please review the pdf file for more detail information.\n"
   ]
  },
  {
   "cell_type": "markdown",
   "metadata": {},
   "source": [
    "## Problem 1: Sampling and Quantization\n",
    "\n",
    "In this problem, we intend to study the effects of sampling and quantization on digital images.\n",
    "Your job is to write a function with the following specifications (you may use loops if necessary):\n",
    "\n",
    "(i) The function takes one input: the image file name, 'peppers.png'.\n",
    "\n",
    "(ii) The input image is assumed to be grayscale.\n",
    "\n",
    "(iii) Sample the image in spatial domain with a sampling \n",
    "rate of 10 (your image should be approximately 10 times smaller along width and height, do not use any numpy functions).\n",
    "\n",
    "(iv) Do a 5-level uniform quantization of the sampled image so that the bins cover the whole range of grayscale values (0 to 255). You should not use any numpy functions for this.\n",
    "\n",
    "(v) The function returns one output: the sampled and quantized image.\n"
   ]
  },
  {
   "cell_type": "code",
   "execution_count": 1,
   "metadata": {},
   "outputs": [
    {
     "data": {
      "text/plain": [
       "'\\nYour code here\\n'"
      ]
     },
     "execution_count": 1,
     "metadata": {},
     "output_type": "execute_result"
    }
   ],
   "source": [
    "import numpy as np\n",
    "from imageio import imread\n",
    "import matplotlib.pyplot as plt\n",
    "\n",
    "def sampling_quantization(img):\n",
    "    '''\n",
    "    Your code here\n",
    "    '''\n",
    "    return img_res\n",
    "\n",
    "#Import image here\n",
    "'''\n",
    "Your code here\n",
    "'''\n",
    "\n",
    "#Sample call and Plotting code\n",
    "'''\n",
    "Your code here\n",
    "'''\n"
   ]
  },
  {
   "cell_type": "markdown",
   "metadata": {},
   "source": [
    "## Problem 2 Image shift\n",
    "Shifting an image x of size (n1, n2) in a direction (k, l) consists in creating a new image xshifted of size\n",
    "(n1, n2) such that\n",
    "\n",
    "<img src=\"markdown/fig1.png\">\n",
    "\n",
    "In practice, boundary conditions should be considered for pixels (i, j) such that (i + k, j + l) not equal to [0, n1-1] x [0, n2-1]. \n",
    "\n",
    "A typical example is to consider periodical boundary conditions such that\n",
    "\n",
    "<img src=\"markdown/fig2.png\">\n",
    "\n",
    "Create in imshift function implementing the shifting of an image x in periodical boundary, such as the following image(b) Shifted in the direction (k,l) by (+100,-50):\n",
    "<img src=\"markdown/fig3.png\">\n",
    "\n",
    "Hint: First write it using loops, and next try to get rid of the loops."
   ]
  },
  {
   "cell_type": "code",
   "execution_count": 2,
   "metadata": {},
   "outputs": [
    {
     "data": {
      "text/plain": [
       "'\\nYour code here\\n'"
      ]
     },
     "execution_count": 2,
     "metadata": {},
     "output_type": "execute_result"
    }
   ],
   "source": [
    "import numpy as np\n",
    "from imageio import imread\n",
    "import matplotlib.pyplot as plt\n",
    "\n",
    "def imshift(x, k, l):\n",
    "    '''\n",
    "    Your code here\n",
    "    '''\n",
    "    return xshifted\n",
    "\n",
    "#Sample call and Plotting code\n",
    "#“lake.png” and \"windmill.png\"\n",
    "'''\n",
    "Your code here\n",
    "'''"
   ]
  },
  {
   "cell_type": "markdown",
   "metadata": {},
   "source": [
    "Check on x = windmill.png and y = lake.png, if this operation is linear, i.e.,\n",
    "<img src=\"markdown/fig4.png\">\n",
    "After shifting the image in the direction (k, l), shift it back in the direction ( k,  l). Interpret the results. Which shift is one-to-one?"
   ]
  },
  {
   "cell_type": "code",
   "execution_count": null,
   "metadata": {},
   "outputs": [],
   "source": [
    "    '''\n",
    "    Your code here\n",
    "    '''"
   ]
  },
  {
   "cell_type": "markdown",
   "metadata": {},
   "source": [
    "## Problem 3 Convolution\n",
    "In this problem, we intend to explore and implement 2D convolution.\n",
    "\n",
    "<img src=\"markdown/conv.png\">\n",
    "\n",
    "First, Create imkernel function that produces a function handle nu implementing a convolution kernel functions on the finite support (-s1, s1)x(-s2, s2). In this case, we specifies the ’gaussian’ kernel as following.\n",
    "\n",
    "Create imconvolve_naive function that performs(except around boundaries) the convolution between x and v with four loops.\n",
    "\n",
    "Create imconvolve_spatial function that performs the convolution between x and v including around boundaries. The idea is to switch the k, l loops with the i, j loops, and then make use of imshift. The final code should read with only two loops. \n",
    "\n",
    "Write a script test_imconvolve function that compares the results and the execution times of imconvolve_naive and imconvolve_spatial, give comment on the execution times of two methods. You should have similar result like:\n",
    "<img src=\"markdown/fig5.png\">\n",
    "\n",
    "\n"
   ]
  },
  {
   "cell_type": "code",
   "execution_count": 3,
   "metadata": {},
   "outputs": [],
   "source": [
    "import numpy as np\n",
    "from imageio import imread\n",
    "import matplotlib.pyplot as plt\n",
    "\n",
    "def imkernel(tau, s1, s2):\n",
    "    w = lambda i,j:np.exp(-(i**2+j**2)/(2*tau**2))\n",
    "    # normalization\n",
    "    i,j=np.mgrid[-s1:s1,-s2:s2]\n",
    "    Z = np.sum(w(i,j))\n",
    "    nu = lambda i,j: w(i,j)/Z*(np.absolute(i)<= s1&np.absolute(j)<=s2)\n",
    "    return nu\n",
    "\n",
    "# Create imconvolve_naive function,\n",
    "def imconvolve_naive(im, nu, s1, s2):\n",
    "    (n1,n2)=im.shape\n",
    "    (s1,s2)=win_size\n",
    "    xconv = np.zeros((n1,n2))\n",
    "    \n",
    "    '''\n",
    "    Your code here\n",
    "    '''\n",
    "    return xconv\n",
    "\n",
    "#Create imconvolve_spatial function\n",
    "def imconvolve_spatial(x, nu,s1,s2):\n",
    "    '''\n",
    "    Your code here\n",
    "    '''\n",
    "    return xconv\n",
    "\n",
    "#Create imconvolve_spatial function\n",
    "def imconvolve_spatial(im,nu, s1,s2):\n",
    "    '''\n",
    "    Your code here\n",
    "    '''\n",
    "    return xconv\n",
    "\n",
    "#Sample call and Plotting code\n",
    "tau = 1\n",
    "s1 = 4\n",
    "s2 = 4\n",
    "'''\n",
    "Your code here\n",
    "'''\n",
    "\n",
    "\n"
   ]
  },
  {
   "cell_type": "markdown",
   "metadata": {},
   "source": [
    "## Conclusion\n",
    "\n",
    "Have you accomplished all parts of your assignment? What concepts did you used or learned in this assignment? What difficulties have you encountered? Explain your result for each section. Please wirte one or two short paragraph in the below Markdown window (double click to edit)."
   ]
  },
  {
   "cell_type": "markdown",
   "metadata": {},
   "source": [
    "**** Your Conclusion: ****\n",
    "\n",
    "-(Double click here to edit)-\n",
    "\n",
    "\n",
    "\n"
   ]
  },
  {
   "cell_type": "markdown",
   "metadata": {},
   "source": [
    "---\n",
    "** Submission Instructions**  \n",
    "Remember to submit you pdf version of this notebook to Gradescope. You can find the export option at File $\\rightarrow$ Download as $\\rightarrow$ PDF via LaTeX"
   ]
  }
 ],
 "metadata": {
  "kernelspec": {
   "display_name": "Python 3",
   "language": "python",
   "name": "python3"
  },
  "language_info": {
   "codemirror_mode": {
    "name": "ipython",
    "version": 3
   },
   "file_extension": ".py",
   "mimetype": "text/x-python",
   "name": "python",
   "nbconvert_exporter": "python",
   "pygments_lexer": "ipython3",
   "version": "3.7.3"
  }
 },
 "nbformat": 4,
 "nbformat_minor": 2
}
