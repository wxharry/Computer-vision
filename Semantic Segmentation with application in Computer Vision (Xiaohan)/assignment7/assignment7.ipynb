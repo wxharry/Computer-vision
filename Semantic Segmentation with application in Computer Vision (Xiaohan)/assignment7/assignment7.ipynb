{
 "cells": [
  {
   "cell_type": "markdown",
   "metadata": {},
   "source": [
    "# Machine Learning and Computer Vision\n",
    "## Assigment 7\n",
    "\n",
    "---\n",
    "\n",
    "This assignment contains 2 programming exercises.\n"
   ]
  },
  {
   "cell_type": "markdown",
   "metadata": {},
   "source": [
    "## Problem 1: Template Matching\n",
    "\n",
    "Template matching is a naive technique for object detection and recognition in an image. It makes use of normalized cross correlation (NCC), which is a very similar operation to convolution. The differences between NCC and convolution are subtle3; you can think of it as a modified convolution. Follow the four steps to perform template matching on two different images:\n",
    "\n",
    "(i) Correlation by Convolution: Using the Letter.jpg and LetterTemplate.jpg perform the following steps to find the template in the original image.\n",
    "\n",
    "• Convert both image and template to grayscale, double type.\n",
    "\n",
    "• Flip LetterTemplate.jpg vertically and horizontally.\n",
    "\n",
    "• Convolve the Letter.jpg and LetterTemplate.jpg.\n",
    "\n",
    "• Find the maximum point of the resulting convolved image. This is the location of the template match in the original image.\n",
    "\n",
    "• Draw a rectangle (using matplotlib.patches.rectangle() or cv2.rectangle()) over the original image centered at the location where the template match occurred. The size of this rectangle is the same as the template.\n",
    "\n",
    "(ii) Normalized Cross Correlation: try to use functions like skimage.feature.match_template(), or scipy.signal.correlate2d() to performs a normalized cross correlation. It returns a correlation matrix that can be interpreted as an image. The maximum value of this image represents the location of the largest correlation between the image and the template. Repeat the process in (i) using Normalized Cross Correlation instead of convolution, and compare their result.\n",
    "\n",
    "\n",
    "(iii) Multiple Matches: Now use Cross Correlation to detect faces in crowd.jpg using face1.jpeg as a template. This time instead of finding the maximum value in the correlation matrix, use a percentage of the maximum as the threshold to detect multiple faces instead of just the best match. Draw rectangles over the original image to indicate where the template matches occurred.\n",
    "\n",
    "(iv) Multiple Templates: Repeat part (iii), but this time use all three templates, face1.jpeg, face2.jpeg and face3.jpeg, to generate three separate correlation matrices. Use each of the three to detect multiple face orientations in the crowd. Draw rectangles over the original image to indicate where the template matches occur (for all three templates). Make sure you use rectangles of different colors to represent matches corresponding to different templates.\n",
    "\n",
    "Things to turn in:\n",
    "\n",
    "• Part (i): image after convolution (use imagesc()) and original image with rectangle depicting template match.\n",
    "\n",
    "• Part (ii): image after Cross Correlation (use imagesc()) and original image with rectangle depicting template match.\n",
    "\n",
    "• Part (iii): image after Cross Correlation (use imagesc()) and original image with rectangles depicting template matches. Also mention NCC threshold used to detect faces.\n",
    "\n",
    "• Part (iv): images after Cross Correlation (use imagesc()) and original image with rectangles depicting template matches (color coded for each template).\n",
    "\n"
   ]
  },
  {
   "cell_type": "code",
   "execution_count": 1,
   "metadata": {},
   "outputs": [
    {
     "data": {
      "text/plain": [
       "'\\nYour code here\\n'"
      ]
     },
     "execution_count": 1,
     "metadata": {},
     "output_type": "execute_result"
    }
   ],
   "source": [
    "import numpy as np\n",
    "from imageio import imread\n",
    "import matplotlib.pyplot as plt\n",
    "\n",
    "#Function\n",
    "'''\n",
    "Your code here\n",
    "'''\n",
    "\n",
    "\n",
    "#Import image here\n",
    "# Convert to Gray scale image, select Threshold\n",
    "# Sample call\n",
    "'''\n",
    "Your code here\n",
    "'''\n",
    "\n"
   ]
  },
  {
   "cell_type": "markdown",
   "metadata": {},
   "source": [
    "## Problem 2  K-Means Segmentation\n",
    "In this problem, we shall implement a K-Means based segmentation algorithm from scratch. To do this, you are required to implement the following three functions -\n",
    "\n",
    "• def createDataset(im): This function takes in an RGB image as input, and returns a dataset of features which are to be clustered. The function returns features, which is an N × M matrix where N is the number of pixels in the image im, and M = 3 (to store the RGB value of each pixel).\n",
    "\n",
    "• def kMeansCluster(features, centers): This function is intended to perform K-Means based clustering on the dataset features (of size N × M). The function returns a list [idx, centers]. Each row in features represents a data point, and each column represents a feature. centers is a k × M matrix, where each row is the initial value of a cluster center. The output idx is an N × 1 vector that stores the final cluster membership (∈ 1, 2, · · · , k) of each data point. The output centers are the final cluster centers after K-Means. Note that you may need to set a maximum iteration count to exit K-Means in case the algorithm fails to converge. You may use loops in this function.\n",
    "\n",
    "• def mapValues(im, idx): This function takes in the cluster membership vector idx (N × 1), and returns the segmented image im_seg as the output. Each pixel in the segmented image must have the RGB value of the cluster center to which it belongs. You may use loops for this part.\n",
    "\n",
    "With the above functions set up, perform image segmentation on the image white-tower.png, with the number of clusters, nclusters = 7. To maintain uniformity in the output image, please initialize clusters centers for K-Means as follows - \n",
    "\n",
    "    np.random.seed(5)\n",
    "\n",
    "    nclusters = 7\n",
    "\n",
    "    features = createDataset(im)\n",
    "\n",
    "    id = np.random.randint(np.shape(features)[0], size=(1, nclusters))\n",
    "\n",
    "Cluster Center points will be the corresponding row of each id value in features. \n",
    "\n",
    "Things to turn in:\n",
    "\n",
    "• The input image, and the image after segmentation.\n",
    "\n",
    "• The final cluster centers that you obtain after K-Means."
   ]
  },
  {
   "cell_type": "code",
   "execution_count": null,
   "metadata": {},
   "outputs": [],
   "source": [
    "#K mean segmentation Function\n",
    "def createDataset(im):\n",
    "    '''\n",
    "    Your code here\n",
    "    '''\n",
    "    return features\n",
    "\n",
    "\n",
    "def kMeansCluster(features, centers):\n",
    "    '''\n",
    "    Your code here\n",
    "    '''    \n",
    "    return [idx,center]\n",
    "def mapValues(im, idx):\n",
    "    '''\n",
    "    Your code here\n",
    "    '''    \n",
    "    return im_seg\n",
    "\n"
   ]
  },
  {
   "cell_type": "code",
   "execution_count": null,
   "metadata": {},
   "outputs": [],
   "source": [
    "#load image\n",
    "'''\n",
    "Your code here\n",
    "'''\n",
    "#Sample call and plot \n",
    "\n",
    "'''\n",
    "Your code here\n",
    "'''"
   ]
  },
  {
   "cell_type": "markdown",
   "metadata": {},
   "source": [
    "## Conclusion\n",
    "\n",
    "Have you accomplished all parts of your assignment? What concepts did you used or learned in this assignment? What difficulties have you encountered? Explain your result for each section. Please wirte one or two short paragraph in the below Markdown window (double click to edit)."
   ]
  },
  {
   "cell_type": "markdown",
   "metadata": {},
   "source": [
    "**** Your Conclusion: ****\n",
    "\n",
    "--\n",
    "\n",
    "\n"
   ]
  },
  {
   "cell_type": "markdown",
   "metadata": {},
   "source": [
    "---\n",
    "** Submission Instructions**  \n",
    "Remember to submit you pdf version of this notebook to Gradescope. You can find the export option at File $\\rightarrow$ Download as $\\rightarrow$ PDF via LaTeX"
   ]
  }
 ],
 "metadata": {
  "kernelspec": {
   "display_name": "Python 3",
   "language": "python",
   "name": "python3"
  },
  "language_info": {
   "codemirror_mode": {
    "name": "ipython",
    "version": 3
   },
   "file_extension": ".py",
   "mimetype": "text/x-python",
   "name": "python",
   "nbconvert_exporter": "python",
   "pygments_lexer": "ipython3",
   "version": "3.6.2"
  }
 },
 "nbformat": 4,
 "nbformat_minor": 2
}
